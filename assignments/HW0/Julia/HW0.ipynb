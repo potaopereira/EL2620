{
 "cells": [
  {
   "cell_type": "markdown",
   "metadata": {},
   "source": [
    "# Homework 0\n",
    "\n",
    "**Author**: Pedro Pereira\n",
    "\n",
    "**Date**: 2016-10-05\n",
    "\n",
    "**Description**: Solutions to Exercise 1.1 of Nonlinear Control EL2620\n",
    "\n",
    "## Markdown cheat sheet\n",
    "\n",
    "How to write in markdown: [Markdown cheat sheet](https://github.com/adam-p/markdown-here/wiki/Markdown-Cheatsheet)\n",
    "\n",
    "## Description\n",
    "\n",
    "![Pendulum Figure](PendulumFigure.png \"Pendulum Figure\")\n",
    "\n",
    "The nonlinear dynamic equation for a pendulum is given by\n",
    "\n",
    "$m l \\ddot{\\theta} = - mg \\sin(\\theta) - k l \\dot{\\theta}$\n",
    "\n",
    "where $l$ is the length of the pendulum, $m$ is the mass of the bob, and $\\theta$ is the angle subtended by the rod and the vertical axis through the pivot point"
   ]
  },
  {
   "cell_type": "markdown",
   "metadata": {},
   "source": [
    "## Pendulum Constants"
   ]
  },
  {
   "cell_type": "code",
   "execution_count": 1,
   "metadata": {
    "collapsed": false
   },
   "outputs": [
    {
     "data": {
      "text/plain": [
       "10"
      ]
     },
     "execution_count": 1,
     "metadata": {},
     "output_type": "execute_result"
    }
   ],
   "source": [
    "# mass\n",
    "m = 1\n",
    "# length of pendulum\n",
    "l = 1\n",
    "# acceleration due to gravity\n",
    "g = 10\n",
    "# friction coefficient (we will play with different values)\n",
    "# k = 1 or k = 2\n"
   ]
  },
  {
   "cell_type": "markdown",
   "metadata": {},
   "source": [
    "# Exercise 1.1 a)\n",
    "Choose appropriate state variables and write down the state equations.\n",
    "\n",
    "$z_1$ stands for the angular position (or $\\theta$), and $z_2$ stands for the angular velocity (or $\\dot{\\theta}$, or $\\omega$)\n"
   ]
  },
  {
   "cell_type": "code",
   "execution_count": 2,
   "metadata": {
    "collapsed": false
   },
   "outputs": [
    {
     "data": {
      "text/plain": [
       "f (generic function with 1 method)"
      ]
     },
     "execution_count": 2,
     "metadata": {},
     "output_type": "execute_result"
    }
   ],
   "source": [
    "function f(x1,x2,k)\n",
    "    # pay attention to the scope of variables\n",
    "    # note that g and l are defined, but k is not\n",
    "    (x2,-g/l*sin(x1) - k*l*x2)\n",
    "end"
   ]
  },
  {
   "cell_type": "markdown",
   "metadata": {},
   "source": [
    "# Exercise 1.1 b)\n",
    "\n",
    "Find all equilibria of the system\n",
    "\n",
    "**Definition**:\n",
    "$x^{\\star}$ is equilibrium of vector field $f$ (aka, state equations) if $f(x^{\\star}) = 0$.\n",
    "\n",
    "Let $x^{\\star} = (x_1^{\\star},x_2^{\\star})$:\n",
    "\n",
    "$\n",
    "f(x^{\\star}) = (0,0) \n",
    "\\Leftrightarrow\n",
    "\\\\\n",
    "\\Leftrightarrow\n",
    "(x_2^{\\star}, -\\frac{g}{l} \\sin(x_1^{\\star}) - k l x_2^{\\star}) = (0,0) \n",
    "\\\\\n",
    "\\Leftrightarrow\n",
    "(x_2^{\\star},\\sin(x_1^{\\star})) = (0,0)\n",
    "\\\\\n",
    "\\Leftrightarrow\n",
    "(x_2^{\\star},x_1^{\\star}) = (0, p\\pi) \\, \\forall p \\in \\mathbb{Z}\n",
    "\\\\\n",
    "\\Leftrightarrow\n",
    "x^{\\star} = (x_1^{\\star},x_2^{\\star}) = (p\\pi,0) \\, \\forall p \\in \\mathbb{Z}\n",
    "$\n",
    "\n",
    "Indeed, notice that (next, I am taking $k=2$, just for illustration purposes)"
   ]
  },
  {
   "cell_type": "code",
   "execution_count": 3,
   "metadata": {
    "collapsed": false
   },
   "outputs": [
    {
     "data": {
      "text/plain": [
       "(0,-0.0)"
      ]
     },
     "execution_count": 3,
     "metadata": {},
     "output_type": "execute_result"
    }
   ],
   "source": [
    "f(0*pi,0,2)"
   ]
  },
  {
   "cell_type": "code",
   "execution_count": 4,
   "metadata": {
    "collapsed": false
   },
   "outputs": [
    {
     "data": {
      "text/plain": [
       "(0,-1.2246467991473533e-15)"
      ]
     },
     "execution_count": 4,
     "metadata": {},
     "output_type": "execute_result"
    }
   ],
   "source": [
    "f(1*pi,0,2)"
   ]
  },
  {
   "cell_type": "markdown",
   "metadata": {},
   "source": [
    "# Exercise 1.1 c)\n",
    "\n",
    "Linearize the system around the equilibrium points, and determine whether the system equilibria are stable or not (you may consider, if you wish, $k = 1$).\n",
    "\n",
    "It suffices to check for equilibria $(x_1^{\\star},x_2^{\\star}) = (0,0)$ and $(x_1^{\\star},x_2^{\\star}) = (\\pi,0)$ (explain why!)\n",
    "\n",
    "\\begin{align}\n",
    "    A(x) \n",
    "    =\n",
    "    &\n",
    "    \\frac{d f(y)}{d y}|_{y = x}\n",
    "    &&\n",
    "    \\\\\n",
    "    =\n",
    "    &\n",
    "    \\begin{bmatrix}\n",
    "        \\frac{\\partial f_1(y_1,y_2)}{\\partial y_1} & \\frac{\\partial f_1(y_1,y_2)}{\\partial y_2}\n",
    "        \\\\\n",
    "        \\frac{\\partial f_2(y_1,y_2)}{\\partial y_1} & \\frac{\\partial f_2(y_1,y_2)}{\\partial y_2}\n",
    "    \\end{bmatrix}\n",
    "    |_{(y_1,y_2)=(x_1,x_2)}\n",
    "    && {\\tiny f := (f_1,f_2), y := (y_1,y_2), x := (x_1,x_2)}\n",
    "    \\\\\n",
    "    =\n",
    "    &\n",
    "    \\begin{bmatrix}\n",
    "        \\frac{\\partial y_2}{\\partial y_1} & \\frac{\\partial y_2}{\\partial y_2}\n",
    "        \\\\\n",
    "        \\frac{\\partial \\left(-\\frac{g}{l} \\sin(y_1) - k l y_2 \\right) }{\\partial y_1} & \\frac{\\partial \\left(-\\frac{g}{l} \\sin(y_1) - k l y_2 \\right)}{\\partial y_2}\n",
    "    \\end{bmatrix}\n",
    "    |_{(y_1,y_2)=(x_1,x_2)}\n",
    "    && {\\tiny f(y_1,y_2) := \\left(y_2,-\\frac{g}{l} \\sin(y_1) - k l y_2\\right)}\n",
    "    \\\\\n",
    "    =\n",
    "    &\n",
    "    \\begin{bmatrix}\n",
    "        0 & 1\n",
    "        \\\\\n",
    "        -\\frac{g}{l} \\cos(y_1) & - k l\n",
    "    \\end{bmatrix}\n",
    "    |_{(y_1,y_2)=(x_1,x_2)}\n",
    "    && {\\tiny \\text{simple calculations}}\n",
    "    \\\\\n",
    "    =\n",
    "    &\n",
    "    \\begin{bmatrix}\n",
    "        0 & 1\n",
    "        \\\\\n",
    "        -\\frac{g}{l} \\cos(x_1) & - k l\n",
    "    \\end{bmatrix}\n",
    "   && {\\tiny \\text{replacement}}\n",
    "\\end{align}\n",
    "\n",
    "### For the equilibria $x^{\\star} = (x_1^{\\star},x_2^{\\star}) = (0,0)$, it follows that\n",
    "\n",
    "\\begin{align}\n",
    "    A(x^{\\star}) \n",
    "    =\n",
    "    \\begin{bmatrix}\n",
    "        0 & 1\n",
    "        \\\\\n",
    "        -\\frac{g}{l} & - k l\n",
    "    \\end{bmatrix}\n",
    "    \\Rightarrow\n",
    "    &\n",
    "    \\det(\\lambda I - A(x^{\\star}) ) = 0\n",
    "    \\\\\n",
    "    \\Leftrightarrow\n",
    "    &\n",
    "    \\det\n",
    "    \\begin{bmatrix}\n",
    "        \\lambda & -1\n",
    "        \\\\\n",
    "        \\frac{g}{l} & \\lambda + k l\n",
    "    \\end{bmatrix}\n",
    "    =0\n",
    "    \\\\\n",
    "    \\Leftrightarrow\n",
    "    &\n",
    "    \\lambda^2 + k l \\lambda + \\frac{g}{l} = 0\n",
    "    \\\\\n",
    "    \\Leftrightarrow\n",
    "    &\n",
    "    \\lambda = - \\frac{k l}{2} \\pm \\sqrt{ \\left(\\frac{k l}{2}\\right)^2 - \\frac{g}{l}}\n",
    "\\end{align}\n",
    "\n",
    "\n",
    "1. If $\\frac{g}{l} > \\left(\\frac{k l}{2}\\right)^2$, the eigenvalues are complex conjugate and the real part is $- \\frac{k l}{2}$: since they are on the LHP, equilibrium is stable.\n",
    "\n",
    "2. If $0< \\frac{g}{l} < \\left(\\frac{k l}{2}\\right)^2 $, the eigenvalues are real and the largest real part is $- \\frac{k l}{2} + \\sqrt{ \\left(\\frac{k l}{2}\\right)^2 - \\frac{g}{l}} < 0$: since they are on the LHP, equilibrium is stable.\n",
    "\n",
    "### For the equilibria $x^{\\star} = (x_1^{\\star},x_2^{\\star}) = (\\pi,0)$, it follows that\n",
    "\n",
    "\\begin{align}\n",
    "    A(x^{\\star}) \n",
    "    =\n",
    "    \\begin{bmatrix}\n",
    "        0 & 1\n",
    "        \\\\\n",
    "        \\frac{g}{l} & - k l\n",
    "    \\end{bmatrix}\n",
    "    \\Rightarrow\n",
    "    &\n",
    "    \\det(\\lambda I - A(x^{\\star}) ) = 0\n",
    "    \\\\\n",
    "    \\Leftrightarrow\n",
    "    &\n",
    "    \\det\n",
    "    \\begin{bmatrix}\n",
    "        \\lambda & -1\n",
    "        \\\\\n",
    "        -\\frac{g}{l} & \\lambda + k l\n",
    "    \\end{bmatrix}\n",
    "    =0\n",
    "    \\\\\n",
    "    \\Leftrightarrow\n",
    "    &\n",
    "    \\lambda^2 + k l \\lambda - \\frac{g}{l} = 0\n",
    "    \\\\\n",
    "    \\Leftrightarrow\n",
    "    &\n",
    "    \\lambda = - \\frac{k l}{2} \\pm \\sqrt{ \\left(\\frac{k l}{2}\\right)^2 + \\frac{g}{l}}\n",
    "\\end{align}\n",
    "\n",
    "\n",
    "Since $\\frac{g}{l} > 0$ it follows that $- \\frac{k l}{2} + \\sqrt{ \\left(\\frac{k l}{2}\\right)^2 + \\frac{g}{l}} >0$: since at least one eigenvalue is on the RHP, the equilibrium is unstable.\n",
    "\n"
   ]
  },
  {
   "cell_type": "markdown",
   "metadata": {},
   "source": [
    "# Exercise 1.1 d) \n",
    "(this is not in the Exercise: it is just to further illustrate how to report)\n",
    "\n",
    "Simulate system with $k =1$ and $k = 2$ and with initial condition  $x(0) = (x_1(0),x_2(0)) = (0.5\\pi,0.1)$. Discuss the results\n"
   ]
  },
  {
   "cell_type": "code",
   "execution_count": 24,
   "metadata": {
    "collapsed": false
   },
   "outputs": [
    {
     "data": {
      "image/png": "[encoded data removed]",
      "text/plain": [
       "PyPlot.Figure(PyObject <matplotlib.figure.Figure object at 0x7f123896b590>)"
      ]
     },
     "metadata": {},
     "output_type": "display_data"
    }
   ],
   "source": [
    "using ODE;\n",
    "using PyPlot\n",
    "\n",
    "for friction = [1;2]\n",
    "\n",
    "    function vector_field(t, y)\n",
    "        # Return the derivatives as a vector\n",
    "        derivative = f(y[1],y[2],friction)\n",
    "\n",
    "        # Return the derivatives as a vector\n",
    "        return [derivative[1]; derivative[2]]\n",
    "    end;\n",
    "\n",
    "    # Initial conditions\n",
    "    x0 = [0.5*pi; 0.1];\n",
    "\n",
    "    # Time vector going from 0 to 10 in 0.1 increments\n",
    "    time = 0:0.1:10.0;\n",
    "\n",
    "    t, x = ODE.ode45(vector_field, x0, time)\n",
    "\n",
    "    x_1 = map(x -> x[1], x)\n",
    "    x_2 = map(x -> x[2], x);\n",
    "\n",
    "    PyPlot.plot(t, x_1,label= \"Angular position for k = $(friction)\")\n",
    "    \n",
    "end\n",
    "\n",
    "legend();\n",
    "PyPlot.title(\"More friction leads to faster convergence to (0,0)\");"
   ]
  },
  {
   "cell_type": "code",
   "execution_count": null,
   "metadata": {
    "collapsed": true
   },
   "outputs": [],
   "source": []
  }
 ],
 "metadata": {
  "kernelspec": {
   "display_name": "Julia 0.4.7",
   "language": "julia",
   "name": "julia-0.4"
  },
  "language_info": {
   "file_extension": ".jl",
   "mimetype": "application/julia",
   "name": "julia",
   "version": "0.4.7"
  }
 },
 "nbformat": 4,
 "nbformat_minor": 0
}
