{
 "cells": [
  {
   "cell_type": "markdown",
   "metadata": {
    "collapsed": false
   },
   "source": [
    "#Homework 1\n",
    "\n",
    "Suppose that there is a grassy island supporting populations of two species $x$ and $y$. If the populations are large then it is reasonable to let the normalized populations be continuous functions of time (so that  might represent a population of e.g., $100000$ individuals). We propose the following simple model of the change in population:\n",
    "\n",
    "$\\dot{x}(t) = f_{x}(x(t),y(t)) = x(t)(a + bx(t) + cy(t))$\n",
    "\n",
    "$\\dot{y}(t) = f_{y}(x(t),y(t))= y(t)(d + ex(t) + fy(t))$\n",
    "\n",
    "where $x$ and $y$ are non-negative functions and $a$, $b$, $\\ldots$, $f$ are constants. Let us start with discussing the model heuristically to gain some insight."
   ]
  },
  {
   "cell_type": "markdown",
   "metadata": {},
   "source": [
    "Consider the first equation when $y =0$ (more precisely, the function zero, $\\mathbb{R} \\ni t \\mapsto y(t) := 0 \\in \\mathbb{R}$): $\\dot{x}(t) = f_{x}(x(t),y(t)) = x(t)(a + bx(t))$. If the species $x$ preys on $y$ then the coefficient $a$ must be non-positive ($a\\le 0$), since if $y = 0$ there is no available food so the population should die of starvation. If $x$ instead eats grass then $a > 0$, so the population grows if the initial population is small. The coefficient $b$ enables a non-zero equilibrium for the population of species $x$ in the absence of the second species. We have $b <0$ since the island is finite so large populations suffer from overcrowding. The coefficient $c$ describes the effect of $y$ on $x$. If $c>0$ then the population growth increases (for example, if $x$ feeds upon $y$), while if $c<0$ then the population growth decreases (for example, if $x$ and $y$ compete for the same resource). Similar interpretations hold for $d$, $e$, and $f$."
   ]
  },
  {
   "cell_type": "markdown",
   "metadata": {},
   "source": [
    "## Exercise 1. [1p] \n",
    "\n",
    "Depending on the sign of $c$ and $e$ there are four different population models. Continue the discussion above and label these four models as\n",
    "\n",
    "1. predator-prey ($x$ predator, $y$ prey),\n",
    "2. prey-predator ($x$ prey, $y$ predator),\n",
    "2. competitive ($x$ and $y$ inhibit each other),\n",
    "3. symbiotic ($x$ and $y$ benefit each other)."
   ]
  },
  {
   "cell_type": "markdown",
   "metadata": {},
   "source": [
    "### Exercise 1.1 $c < 0$ and $e < 0$ \n"
   ]
  },
  {
   "cell_type": "markdown",
   "metadata": {},
   "source": [
    "### Exercise 1.1 $c < 0$ and $e > 0$ \n"
   ]
  },
  {
   "cell_type": "markdown",
   "metadata": {},
   "source": [
    "### Exercise 1.1 $c > 0$ and $e < 0$ \n"
   ]
  },
  {
   "cell_type": "markdown",
   "metadata": {},
   "source": [
    "### Exercise 1.1 $c > 0$ and $e > 0$ \n"
   ]
  },
  {
   "cell_type": "markdown",
   "metadata": {},
   "source": [
    "## Exercise 2. [1p]\n",
    "\n",
    "Consider the population model presented above, with $a=3$, $b=f=-1$, and $d=2$. Draw the phase portrait for the following four cases (you may use the java application pplane.jar that you can obtain from http://math.rice.edu/~dfield/dfpp.html)\n",
    "\n",
    "1. $(c, e) = (−2,−1)$,\n",
    "2. $(c, e) = (−2, 1)$,\n",
    "3. $(c, e) = (2,−1)$,\n",
    "4. $(c, e) = (2, 1)$.\n",
    "\n",
    "Determine (analytically) the type of each equilibrium in each case. Interpret your results and comment on their implications when the model is applied in a real investigation of the dynamics between two species."
   ]
  },
  {
   "cell_type": "code",
   "execution_count": 1,
   "metadata": {
    "collapsed": false
   },
   "outputs": [
    {
     "name": "stderr",
     "output_type": "stream",
     "text": [
      "INFO: Updating METADATA...\n",
      "INFO: Computing changes...\n",
      "INFO: No packages to install, update or remove\n",
      "INFO: Nothing to be done\n"
     ]
    }
   ],
   "source": [
    "# if you wish to use symbolic variables to compute jacobians (or derivatives)\n",
    "Pkg.update()\n",
    "Pkg.add(\"SymPy\")\n",
    "using SymPy\n",
    "# Example\n",
    "@vars a b\n",
    "replace(funct) = subs(subs(funct,a,3),b,-1);\n",
    "func(x) =  x*(a+b);\n",
    "replace(func(2))"
   ]
  },
  {
   "cell_type": "markdown",
   "metadata": {},
   "source": [
    "### Exercise 2.1 $(c,e) = (-2,-1)$\n"
   ]
  },
  {
   "cell_type": "markdown",
   "metadata": {},
   "source": [
    "### Exercise 2.2 $(c,e) = (-2,1)$\n"
   ]
  },
  {
   "cell_type": "markdown",
   "metadata": {},
   "source": [
    "### Exercise 2.3 $(c,e) = (2,-1)$\n"
   ]
  },
  {
   "cell_type": "markdown",
   "metadata": {},
   "source": [
    "### Exercise 2.4 $(c,e) = (2,1)$\n"
   ]
  },
  {
   "cell_type": "markdown",
   "metadata": {},
   "source": [
    "## Exercise 3 [1p]\n",
    "\n",
    "Repeat the previous exercise for $(a,b,c,d,e,f)=(1,0,-1,-1,1,0)$. \n"
   ]
  },
  {
   "cell_type": "markdown",
   "metadata": {},
   "source": [
    "## Exercise 4 [1p]"
   ]
  },
  {
   "cell_type": "markdown",
   "metadata": {},
   "source": [
    "### Exercise 4.1 [0.5p]\n",
    "\n",
    "Definition: A set $W \\subset R^{n}$ is (positively) invariant if $z(0) \\in W \\Rightarrow z(t) \\in W \\forall t \\ge 0$.\n",
    "Show that the $x$- and $y$-axes are invariant for all values of the parameters in (1.1). Can you indentify another invariant set (apart from the $x$ and $y$ axis)?\n",
    "\n",
    "Why is this a necessary feature of a population model? "
   ]
  },
  {
   "cell_type": "markdown",
   "metadata": {},
   "source": [
    "### Exercise 4.2 [0.5p]\n",
    "\n",
    "Assume $a,e =1$, $b=f=0$, and $c=d=-1$, and show that a periodic orbit exists. \n",
    "\n",
    "(Hint: find a closed and bounded trajectory that is an invariant set and contains no equilibrium point. For that purpose, consider $\\frac{dy}{dx}$ and attempt to solve the differential equation you find, which should yield a trajectory defined in an implicit form. The Poincaré-Bendixson criterion then ensures that the trajectory is a periodic orbit.)"
   ]
  },
  {
   "cell_type": "markdown",
   "metadata": {},
   "source": [
    "## Exercise 5. [1p] \n",
    "\n",
    "Generalize the previous population model to $N >2$ species and explain the meaning of whatever coefficients you introduce."
   ]
  }
 ],
 "metadata": {
  "kernelspec": {
   "display_name": "Julia 0.4.7",
   "language": "julia",
   "name": "julia-0.4"
  },
  "language_info": {
   "file_extension": ".jl",
   "mimetype": "application/julia",
   "name": "julia",
   "version": "0.4.7"
  }
 },
 "nbformat": 4,
 "nbformat_minor": 0
}
